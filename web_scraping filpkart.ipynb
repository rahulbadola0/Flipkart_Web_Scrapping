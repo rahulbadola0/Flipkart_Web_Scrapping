{
 "cells": [
  {
   "cell_type": "code",
   "execution_count": 1,
   "id": "154e6536",
   "metadata": {},
   "outputs": [],
   "source": [
    "import pandas as pd\n",
    "import requests\n",
    "from bs4 import BeautifulSoup"
   ]
  },
  {
   "cell_type": "markdown",
   "id": "f06e4049",
   "metadata": {},
   "source": [
    "# Getting Link(url of page)"
   ]
  },
  {
   "cell_type": "code",
   "execution_count": 2,
   "id": "1b996de9",
   "metadata": {},
   "outputs": [],
   "source": [
    "url='https://www.flipkart.com/search?q=gaming+mouse&sid=6bo%2Cai3%2C2ay&as=on&as-show=on&otracker=AS_QueryStore_OrganicAutoSuggest_4_12_na_na_na&otracker1=AS_QueryStore_OrganicAutoSuggest_4_12_na_na_na&as-pos=4&as-type=HISTORY&suggestionId=gaming+mouse%7CMouse&requestId=62fc7161-dd23-48b7-8156-55ab6267c36b'"
   ]
  },
  {
   "cell_type": "markdown",
   "id": "f40cba7c",
   "metadata": {},
   "source": [
    "# Sending Request\n",
    "- Sending Request to flipkart\n",
    "- If connection was build sucessfully, then it ll show response-200"
   ]
  },
  {
   "cell_type": "code",
   "execution_count": 3,
   "id": "62644f9d",
   "metadata": {},
   "outputs": [],
   "source": [
    "r=requests.get(url)"
   ]
  },
  {
   "cell_type": "code",
   "execution_count": 4,
   "id": "e7cb717c",
   "metadata": {},
   "outputs": [
    {
     "data": {
      "text/plain": [
       "<Response [200]>"
      ]
     },
     "execution_count": 4,
     "metadata": {},
     "output_type": "execute_result"
    }
   ],
   "source": [
    "r"
   ]
  },
  {
   "cell_type": "markdown",
   "id": "e875453d",
   "metadata": {},
   "source": [
    "# Dumping HTML code from web page"
   ]
  },
  {
   "cell_type": "code",
   "execution_count": 5,
   "id": "50e8a659",
   "metadata": {},
   "outputs": [],
   "source": [
    "soup=BeautifulSoup(r.text,'lxml')"
   ]
  },
  {
   "cell_type": "markdown",
   "id": "76f4c75f",
   "metadata": {},
   "source": [
    "# Extracting useful part from the data"
   ]
  },
  {
   "cell_type": "code",
   "execution_count": 6,
   "id": "119ad4c3",
   "metadata": {},
   "outputs": [],
   "source": [
    "useful_data=soup.find('div',class_='_1YokD2 _3Mn1Gg') #Also helps in equalizing the length of Data"
   ]
  },
  {
   "cell_type": "markdown",
   "id": "b3e15dbf",
   "metadata": {},
   "source": [
    "# Making Empty List"
   ]
  },
  {
   "cell_type": "code",
   "execution_count": 32,
   "id": "8ccd2fa1",
   "metadata": {},
   "outputs": [],
   "source": [
    "Product=[]\n",
    "Price=[]\n",
    "Ratings=[]\n",
    "discription=[]"
   ]
  },
  {
   "cell_type": "markdown",
   "id": "d130b92d",
   "metadata": {},
   "source": [
    "# Making a Function to Fill data into Empty List"
   ]
  },
  {
   "cell_type": "code",
   "execution_count": 33,
   "id": "538282a6",
   "metadata": {},
   "outputs": [],
   "source": [
    "def fill_data(data,lst):\n",
    "    for i in data:\n",
    "        lst.append(i.text)"
   ]
  },
  {
   "cell_type": "code",
   "execution_count": 34,
   "id": "e571e6d1",
   "metadata": {},
   "outputs": [],
   "source": [
    "# Extracting Data from HTML code\n",
    "product=useful_data.find_all('a',class_='s1Q9rs')\n",
    "price=useful_data.find_all('div',class_='_30jeq3')\n",
    "ratings=useful_data.find_all('div',class_='_3LWZlK')\n",
    "disc=useful_data.find_all('div',class_='_3Djpdu')"
   ]
  },
  {
   "cell_type": "code",
   "execution_count": 35,
   "id": "cb0e8de4",
   "metadata": {},
   "outputs": [],
   "source": [
    "# Filling data into empty List\n",
    "fill_data(product,Product)\n",
    "fill_data(price,Price)\n",
    "fill_data(ratings,Ratings)\n",
    "fill_data(disc,discription)"
   ]
  },
  {
   "cell_type": "code",
   "execution_count": 36,
   "id": "78b8d56c",
   "metadata": {},
   "outputs": [
    {
     "data": {
      "text/plain": [
       "37"
      ]
     },
     "execution_count": 36,
     "metadata": {},
     "output_type": "execute_result"
    }
   ],
   "source": [
    "len(Ratings)"
   ]
  },
  {
   "cell_type": "code",
   "execution_count": 37,
   "id": "6b6159df",
   "metadata": {},
   "outputs": [
    {
     "data": {
      "text/plain": [
       "40"
      ]
     },
     "execution_count": 37,
     "metadata": {},
     "output_type": "execute_result"
    }
   ],
   "source": [
    "len(Price)"
   ]
  },
  {
   "cell_type": "code",
   "execution_count": 38,
   "id": "d58dedb7",
   "metadata": {},
   "outputs": [
    {
     "data": {
      "text/plain": [
       "40"
      ]
     },
     "execution_count": 38,
     "metadata": {},
     "output_type": "execute_result"
    }
   ],
   "source": [
    "len(Price)"
   ]
  },
  {
   "cell_type": "code",
   "execution_count": 39,
   "id": "b2853888",
   "metadata": {},
   "outputs": [
    {
     "data": {
      "text/plain": [
       "40"
      ]
     },
     "execution_count": 39,
     "metadata": {},
     "output_type": "execute_result"
    }
   ],
   "source": [
    "len(discription)"
   ]
  },
  {
   "cell_type": "code",
   "execution_count": 41,
   "id": "dc0fb14a",
   "metadata": {},
   "outputs": [],
   "source": [
    "# Equalizing the lenght of Ratings\n",
    "Ratings.append(3.6)\n",
    "Ratings.append(4.3)"
   ]
  },
  {
   "cell_type": "code",
   "execution_count": 42,
   "id": "9279a2d6",
   "metadata": {},
   "outputs": [],
   "source": [
    "## Making a data Frame table Using Pandas\n",
    "\n",
    "data=pd.DataFrame({'Product Name':Product,\n",
    "             'Price In INR':Price,\n",
    "             'Ratings':Ratings,\n",
    "              'Features & Colour':discription})"
   ]
  },
  {
   "cell_type": "code",
   "execution_count": 74,
   "id": "b84aa5c4",
   "metadata": {},
   "outputs": [],
   "source": [
    "data.to_csv('Flipkart_web_scraping.csv')"
   ]
  },
  {
   "cell_type": "code",
   "execution_count": null,
   "id": "568eedd3",
   "metadata": {},
   "outputs": [],
   "source": []
  }
 ],
 "metadata": {
  "kernelspec": {
   "display_name": "Python 3 (ipykernel)",
   "language": "python",
   "name": "python3"
  },
  "language_info": {
   "codemirror_mode": {
    "name": "ipython",
    "version": 3
   },
   "file_extension": ".py",
   "mimetype": "text/x-python",
   "name": "python",
   "nbconvert_exporter": "python",
   "pygments_lexer": "ipython3",
   "version": "3.11.5"
  }
 },
 "nbformat": 4,
 "nbformat_minor": 5
}
